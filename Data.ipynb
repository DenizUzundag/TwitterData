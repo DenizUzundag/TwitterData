{
 "cells": [
  {
   "cell_type": "code",
   "execution_count": 1,
   "metadata": {},
   "outputs": [],
   "source": [
    "import requests\n",
    "from bs4 import BeautifulSoup\n",
    "import csv\n",
    "from selenium import webdriver\n",
    "from selenium.webdriver.common.keys import Keys\n",
    "import time\n",
    "import pandas as pd"
   ]
  },
  {
   "cell_type": "code",
   "execution_count": 11,
   "metadata": {},
   "outputs": [],
   "source": [
    "def data_pull():\n",
    "    page=int(input(\"Scroll=\"))\n",
    "    \n",
    "    driver_path= \"C:\\Program\\chromedriver.exe\"\n",
    "    browser = webdriver.Chrome(driver_path)\n",
    "\n",
    "    browser.get(\"https://twitter.com/explore/\")\n",
    "    inputWord= browser.find_element_by_css_selector(\".r-30o5oe.r-1niwhzg\")\n",
    "    inputWord.send_keys(\"request for startup\")\n",
    "\n",
    "    inputWord.send_keys(Keys.ENTER)\n",
    "    file = open(\"tweetDataSet.csv\",\"w\",encoding=\"utf-8\")\n",
    "    writer=csv.writer(file)\n",
    "    \n",
    "    writer.writerow([\"author\",\"date\",\"tweet\",\"discussions\",\"retweet\",\"like\"])\n",
    "    \n",
    "    a=0\n",
    "    while a<page:\n",
    "\n",
    "        lastHeight = browser.execute_script(\"return document.body.scrollHeight\")\n",
    "        i=0\n",
    "        while i<1:\n",
    "            browser.execute_script(\"window.scrollTo(0,document.body.scrollHeight);\")\n",
    "            time.sleep(3)\n",
    "            newHeight=browser.execute_script(\"return document.body.scrollHeight\")\n",
    "\n",
    "            if newHeight ==lastHeight:\n",
    "                break\n",
    "            else:\n",
    "                lastHeight=newHeight\n",
    "            i=i+1\n",
    "\n",
    "\n",
    "\n",
    "        source = browser.page_source\n",
    "        soup =BeautifulSoup(source,\"html.parser\")\n",
    "        tweet = soup.find_all(\"div\",attrs={\"data-testid\":\"tweet\"})\n",
    "\n",
    "        for i in tweet:\n",
    "            try:\n",
    "                author =i.find(\"span\",attrs={\"class\":\"css-901oao css-16my406 r-poiln3 r-bcqeeo r-qvutc0\"}).text\n",
    "                date = i.find(\"a\",attrs={\"class\":\"css-4rbku5 css-18t94o4 css-901oao r-14j79pv r-1loqt21 r-1q142lx r-1qd0xha r-a023e6 r-16dba41 r-rjixqe r-bcqeeo r-3s2u2q r-qvutc0\"}).text\n",
    "                tweet = i.find(\"div\", attrs={\"class\":\"css-901oao r-18jsvk2 r-1qd0xha r-a023e6 r-16dba41 r-rjixqe r-bcqeeo r-bnwqim r-qvutc0\"}).text\n",
    "                discussions = i.find(\"div\",attrs={\"data-testid\":\"reply\"}).text\n",
    "                retweet = i.find(\"div\",attrs={\"data-testid\":\"retweet\"}).text\n",
    "                like = i.find(\"div\",attrs={\"data-testid\":\"like\"}).text\n",
    "            \n",
    "                writer.writerow([author,date,tweet,discussions,retweet,like])\n",
    "            except:\n",
    "                print(\"*\")\n",
    "\n",
    "            a=a+1"
   ]
  },
  {
   "cell_type": "code",
   "execution_count": 12,
   "metadata": {},
   "outputs": [
    {
     "name": "stdout",
     "output_type": "stream",
     "text": [
      "Scroll=15\n"
     ]
    }
   ],
   "source": [
    "data_pull()"
   ]
  }
 ],
 "metadata": {
  "kernelspec": {
   "display_name": "Python 3",
   "language": "python",
   "name": "python3"
  },
  "language_info": {
   "codemirror_mode": {
    "name": "ipython",
    "version": 3
   },
   "file_extension": ".py",
   "mimetype": "text/x-python",
   "name": "python",
   "nbconvert_exporter": "python",
   "pygments_lexer": "ipython3",
   "version": "3.8.3"
  }
 },
 "nbformat": 4,
 "nbformat_minor": 4
}
